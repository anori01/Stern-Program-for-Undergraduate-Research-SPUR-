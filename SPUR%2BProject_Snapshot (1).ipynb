{
 "cells": [
  {
   "cell_type": "markdown",
   "metadata": {},
   "source": [
    "#### https://stackoverflow.com/questions/4598572/facebook-api-how-to-get-count-of-group-members?noredirect=1&lq=1\n",
    "\n",
    "## Major Challenges:\n",
    "  -No way to query for a simple COUNT of total group members. Have to keep querying until you run out.\n",
    "  \n",
    "  -No guarantee on true randomness of query results, which breaks capture-recapture. Have to do an in-memory/streaming sample.\n",
    "  \n",
    "  -Don't know how to reliably generate a Facebook User Access Token that lasts forever. Have to go through API Explorer.\n",
    "\n",
    "\n",
    "## Initialization/Constants:\n",
    "\n",
    "  -Obtain a new API key each time from: https://developers.facebook.com/tools/explorer/145634995501895/?method=GET&path=227570797388782%2Fmembers%2F&version=v2.10 Use the \"Get Token\" button in the top right. Not sure how to prompt it from python code.\n",
    "\n",
    "## Todo:\n",
    "\n",
    "  -Implement more complex mark and recapture techniques\n",
    "  \n",
    "  -Clean up code -- split into more functions\n",
    "  \n",
    "  -Incorporate Panos' propensity model"
   ]
  },
  {
   "cell_type": "code",
   "execution_count": 1,
   "metadata": {
    "collapsed": true
   },
   "outputs": [],
   "source": [
    "import pandas as pd\n",
    "import json\n",
    "import requests \n",
    "import random"
   ]
  },
  {
   "cell_type": "code",
   "execution_count": 2,
   "metadata": {
    "collapsed": true
   },
   "outputs": [],
   "source": [
    "access_token = r\"EAACEdEose0cBAI0lGIGLj2ffd6XIXIu7WZAG7uANnv34XAmD7YUAUENaVkOIZB4Fza4LZBdlz8dSsmMvVYeqsdzcDOaeIyAC7B8e0u9SxXFtASTZB9j8Ah9ivYZAOJiK6l9ObrzKT5gYF3ZCDZC6crDdqUDzim4Ef1iPD6ZAgfRnjEW1gPZBVOHvzjAonZCKNqJZC8ZD\"\n",
    "group_id = \"227570797388782\"  #Look this up from Facebook Group meta tags"
   ]
  },
  {
   "cell_type": "code",
   "execution_count": 3,
   "metadata": {
    "collapsed": true
   },
   "outputs": [],
   "source": [
    "def reservoir_sampler(data, num_samples, current_list = [], samples_seen = 0):\n",
    "    '''\n",
    "    This is a streaming sampling algorithm...\n",
    "    Returns list of current state of samples, plus the number of elements it has seen so far.\n",
    "    '''\n",
    "    if samples_seen < num_samples:\n",
    "        current_list.append(data)\n",
    "    elif samples_seen >= num_samples and random.random() < (num_samples / float(samples_seen + 1)):\n",
    "        #to guarantee that every data point has an equal chance of ending up in the current_list\n",
    "        replace = random.randint(0,len(current_list)-1)\n",
    "        current_list[replace] = data\n",
    "    return current_list, samples_seen + 1\n",
    "\n",
    "#if we haven't seen a sufficient number of samples yet, keep collecting -- if we have seen enough samples, \n",
    "#if the random sample is sufficiently low, we replace something in our current list with the new data,\n",
    "#every new data point has an equal chance of ending up in our list"
   ]
  },
  {
   "cell_type": "code",
   "execution_count": null,
   "metadata": {
    "collapsed": true
   },
   "outputs": [],
   "source": [
    "#observe activity from a certain period of time\n",
    "#group 1 and two are based \n",
    "#bias to people discussing in the channel..compensate for different levels of activity\n",
    "#lifetime --> what is the time difference between groups ...how does it change when activit periods move farther away"
   ]
  },
  {
   "cell_type": "code",
   "execution_count": null,
   "metadata": {
    "collapsed": true
   },
   "outputs": [],
   "source": [
    "join groups and find new groups to get"
   ]
  },
  {
   "cell_type": "code",
   "execution_count": 4,
   "metadata": {
    "collapsed": true
   },
   "outputs": [],
   "source": [
    "def mark_from_group(num_to_mark, group_id, access_token, get_all_group_members = False, api_limit = 1500):\n",
    "    '''\n",
    "    Inputs:\n",
    "        -num_to_mark: Number of samples to mark from group\n",
    "        -group_id: Facebook Group ID\n",
    "        -access_token: Facebook access Token\n",
    "        -get_all_group_members: Boolean flag for whether or not to keep pulling for all group members\n",
    "        -api_limit: Number of samples to pull each time. CANNOT set more than 2000, 1500 to be safe. \n",
    "    \n",
    "    Outputs:\n",
    "        -Set() of \"num_to_mark\" samples -- contains IDs of members marked.\n",
    "        -Total number of members of group\n",
    "    '''\n",
    "    base_url = r\"https://graph.facebook.com/\"\n",
    "    request_url = base_url + r\"v2.10/\" + group_id + r\"/members\"\n",
    "    parameters = { \"access_token\" : access_token, \"limit\" : api_limit }  #Max limit is about 2000 before it fails\n",
    "#making the call from Facebook\n",
    "    r = requests.get(request_url, params = parameters)\n",
    "    \n",
    "    #print(r.url)\n",
    "    payload = r.json() #data I will get back out\n",
    "    next_url = payload['paging'].get('next') \n",
    "    #if 'next' key exists, then they will give new url for next chunk of people\n",
    "    #if the next_url field exits, it means there are more members in group\n",
    "    data = payload.get('data') #returns none if it doesn't exist\n",
    "    \n",
    "    marked_samples = []\n",
    "    num_seen = 0\n",
    "    for person in data:\n",
    "        marked_samples, num_seen = reservoir_sampler(person['id'], num_to_mark, marked_samples, num_seen) \n",
    "        #all we care about is ID, right?\n",
    "        #only first 1500 people\n",
    "    \n",
    "    if get_all_group_members:\n",
    "        while(next_url is not None):  #can be dangerous, code might run for a very long time!!\n",
    "            r = requests.get(next_url)\n",
    "            payload = r.json()\n",
    "            data = payload.get('data')\n",
    "            next_url = payload['paging'].get('next') #reasigned so that it can account for every group member\n",
    "\n",
    "            for person in data:\n",
    "                marked_samples, num_seen = reservoir_sampler(person['id'], num_to_mark, marked_samples, num_seen)\n",
    "\n",
    "    return (set(marked_samples), num_seen)"
   ]
  },
  {
   "cell_type": "code",
   "execution_count": 9,
   "metadata": {
    "collapsed": true
   },
   "outputs": [],
   "source": [
    "#Capture (first sample) \n",
    "first_group, true_group_size = mark_from_group(250, group_id, access_token, True, 1500) #TRUE to get all group members"
   ]
  },
  {
   "cell_type": "code",
   "execution_count": 10,
   "metadata": {
    "collapsed": true
   },
   "outputs": [],
   "source": [
    "#Re-Capture (second sample)\n",
    "second_group, true_group_size_2 = mark_from_group(250, group_id, access_token, True, 1500)"
   ]
  },
  {
   "cell_type": "code",
   "execution_count": 11,
   "metadata": {},
   "outputs": [
    {
     "name": "stdout",
     "output_type": "stream",
     "text": [
      "Intersection size:  11\n",
      "5681.818181818182 6180\n",
      "Error:  8.061194468961457 %\n"
     ]
    }
   ],
   "source": [
    "#Estimating Group Size\n",
    "\n",
    "def lincoln_estimator(initial_group, recaptured_group):\n",
    "    intersect = set.intersection(initial_group, recaptured_group)\n",
    "    print(\"Intersection size: \", len(intersect))\n",
    "    return len(initial_group) * len(recaptured_group) / len(intersect)\n",
    "\n",
    "estimated_group_size = lincoln_estimator(first_group, second_group)\n",
    "print(estimated_group_size, true_group_size)\n",
    "print(\"Error: \", (abs(estimated_group_size - true_group_size) / true_group_size)* 100, \"%\" )"
   ]
  },
  {
   "cell_type": "code",
   "execution_count": null,
   "metadata": {
    "collapsed": true
   },
   "outputs": [],
   "source": [
    "#next step would be implement\n",
    "#isnt a simple way to pull everyone\n",
    "#have to do it a chunk at a time\n",
    "#got help with brother for the random sampling part\n",
    "#have this data that comes in one chunk at a time\n",
    "#what kinds of visualzations do we need?\n",
    "#more complicated estimator?\n",
    "\n",
    "#add requests.get(url) get the user based upon the"
   ]
  }
 ],
 "metadata": {
  "kernelspec": {
   "display_name": "Python 3",
   "language": "python",
   "name": "python3"
  },
  "language_info": {
   "codemirror_mode": {
    "name": "ipython",
    "version": 3
   },
   "file_extension": ".py",
   "mimetype": "text/x-python",
   "name": "python",
   "nbconvert_exporter": "python",
   "pygments_lexer": "ipython3",
   "version": "3.5.2"
  }
 },
 "nbformat": 4,
 "nbformat_minor": 2
}
